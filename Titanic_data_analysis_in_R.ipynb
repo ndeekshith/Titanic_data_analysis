{
  "metadata": {
    "kernelspec": {
      "name": "ir",
      "display_name": "R",
      "language": "R"
    },
    "language_info": {
      "name": "R",
      "codemirror_mode": "r",
      "pygments_lexer": "r",
      "mimetype": "text/x-r-source",
      "file_extension": ".r",
      "version": "4.4.0"
    },
    "kaggle": {
      "accelerator": "none",
      "dataSources": [
        {
          "sourceId": 2965537,
          "sourceType": "datasetVersion",
          "datasetId": 1818188
        }
      ],
      "dockerImageVersionId": 30749,
      "isInternetEnabled": true,
      "language": "r",
      "sourceType": "notebook",
      "isGpuEnabled": false
    },
    "colab": {
      "name": "Titanic_data_analysis_in_R",
      "provenance": [],
      "include_colab_link": true
    }
  },
  "nbformat_minor": 0,
  "nbformat": 4,
  "cells": [
    {
      "cell_type": "markdown",
      "metadata": {
        "id": "view-in-github",
        "colab_type": "text"
      },
      "source": [
        "<a href=\"https://colab.research.google.com/github/ndeekshith/Titanic_data_analysis/blob/main/Titanic_data_analysis_in_R.ipynb\" target=\"_parent\"><img src=\"https://colab.research.google.com/assets/colab-badge.svg\" alt=\"Open In Colab\"/></a>"
      ]
    },
    {
      "source": [
        "\n",
        "# IMPORTANT: RUN THIS CELL IN ORDER TO IMPORT YOUR KAGGLE DATA SOURCES\n",
        "# TO THE CORRECT LOCATION (/kaggle/input) IN YOUR NOTEBOOK,\n",
        "# THEN FEEL FREE TO DELETE THIS CELL.\n",
        "# NOTE: THIS NOTEBOOK ENVIRONMENT DIFFERS FROM KAGGLE'S R\n",
        "# ENVIRONMENT SO THERE MAY BE MISSING LIBRARIES USED BY YOUR\n",
        "# NOTEBOOK.\n",
        "\n",
        "DATA_SOURCE_MAPPING = 'titanic-dataset:https%3A%2F%2Fstorage.googleapis.com%2Fkaggle-data-sets%2F1818188%2F2965537%2Fbundle%2Farchive.zip%3FX-Goog-Algorithm%3DGOOG4-RSA-SHA256%26X-Goog-Credential%3Dgcp-kaggle-com%2540kaggle-161607.iam.gserviceaccount.com%252F20250626%252Fauto%252Fstorage%252Fgoog4_request%26X-Goog-Date%3D20250626T123603Z%26X-Goog-Expires%3D259200%26X-Goog-SignedHeaders%3Dhost%26X-Goog-Signature%3D574574c78c6ee3564f6f3ac277af0b752dc022b019515f4131dfa4ee9a3137d7c45119ae562193e6545043f3afbd478bd4a1ec17353ab0294a6121d459995dec8c6baa7dba7b9e12cd5e71e1f3a550ea221932487ff03790fb1bd755a41d7db8cc39cd26d98ade8e748a68b532b07ef46108307e9015446c160931dffc85a525a1248756871f1c93649b7af529309514dc088c2807e8272b5962371e0abca873074f9b6a3f6454f412e24a125216a98ec0e4b708566fdb890914ed6d23c190d4d9a1561fe07e3e8b5a152970480e3aa2aeb848ebee719c793a3ab37a8c1adec4684042d87e75fbe0ebd7bd9761fbcf9d20b78f368e3fdea6ede77736caaadb84'\n",
        "\n",
        "KAGGLE_INPUT_PATH = '/kaggle/input'\n",
        "KAGGLE_WORKING_PATH = '/kaggle/working'\n",
        "\n",
        "system(paste0('sudo umount ', '/kaggle/input'))\n",
        "system(paste0('sudo rmdir ', '/kaggle/input'))\n",
        "system(paste0('sudo mkdir -p -- ', KAGGLE_INPUT_PATH), intern=TRUE)\n",
        "system(paste0('sudo chmod 777 ', KAGGLE_INPUT_PATH), intern=TRUE)\n",
        "system(\n",
        "  paste0('sudo ln -sfn ', KAGGLE_INPUT_PATH,' ',file.path('..', 'input')),\n",
        "  intern=TRUE)\n",
        "\n",
        "system(paste0('sudo mkdir -p -- ', KAGGLE_WORKING_PATH), intern=TRUE)\n",
        "system(paste0('sudo chmod 777 ', KAGGLE_WORKING_PATH), intern=TRUE)\n",
        "system(\n",
        "  paste0('sudo ln -sfn ', KAGGLE_WORKING_PATH, ' ', file.path('..', 'working')),\n",
        "  intern=TRUE)\n",
        "\n",
        "data_source_mappings = strsplit(DATA_SOURCE_MAPPING, ',')[[1]]\n",
        "for (data_source_mapping in data_source_mappings) {\n",
        "    path_and_url = strsplit(data_source_mapping, ':')\n",
        "    directory = path_and_url[[1]][1]\n",
        "    download_url = URLdecode(path_and_url[[1]][2])\n",
        "    filename = sub(\"\\\\?.+\", \"\", download_url)\n",
        "    destination_path = file.path(KAGGLE_INPUT_PATH, directory)\n",
        "    print(paste0('Downloading and uncompressing: ', directory))\n",
        "    if (endsWith(filename, '.zip')){\n",
        "      temp = tempfile(fileext = '.zip')\n",
        "      download.file(download_url, temp)\n",
        "      unzip(temp, overwrite = TRUE, exdir = destination_path)\n",
        "      unlink(temp)\n",
        "    }\n",
        "    else{\n",
        "      temp = tempfile(fileext = '.tar')\n",
        "      download.file(download_url, temp)\n",
        "      untar(temp, exdir = destination_path)\n",
        "      unlink(temp)\n",
        "    }\n",
        "    print(paste0('Downloaded and uncompressed: ', directory))\n",
        "}\n",
        "\n",
        "print(paste0('Data source import complete'))\n"
      ],
      "metadata": {
        "id": "ydnYfiCrPPsb"
      },
      "cell_type": "code",
      "outputs": [],
      "execution_count": null
    },
    {
      "cell_type": "code",
      "source": [
        "# This R environment comes with many helpful analytics packages installed\n",
        "# It is defined by the kaggle/rstats Docker image: https://github.com/kaggle/docker-rstats\n",
        "# For example, here's a helpful package to load\n",
        "\n",
        "library(tidyverse) # metapackage of all tidyverse packages\n",
        "\n",
        "# Input data files are available in the read-only \"../input/\" directory\n",
        "# For example, running this (by clicking run or pressing Shift+Enter) will list all files under the input directory\n",
        "\n",
        "list.files(path = \"../input\")\n",
        "\n",
        "# You can write up to 20GB to the current directory (/kaggle/working/) that gets preserved as output when you create a version using \"Save & Run All\"\n",
        "# You can also write temporary files to /kaggle/temp/, but they won't be saved outside of the current session"
      ],
      "metadata": {
        "_uuid": "051d70d956493feee0c6d64651c6a088724dca2a",
        "_execution_state": "idle",
        "trusted": true,
        "execution": {
          "iopub.status.busy": "2025-06-26T12:13:54.755429Z",
          "iopub.execute_input": "2025-06-26T12:13:54.757388Z",
          "iopub.status.idle": "2025-06-26T12:13:56.126225Z",
          "shell.execute_reply": "2025-06-26T12:13:56.124593Z"
        },
        "id": "U-cNZOtePPsf"
      },
      "outputs": [],
      "execution_count": null
    },
    {
      "cell_type": "code",
      "source": [
        "# Load all the libraries\n",
        "library(tidyverse)\n",
        "library(caret)\n",
        "library(randomForest)\n",
        "library(e1071)\n",
        "library(rpart)\n",
        "library(rpart.plot)\n",
        "library(corrplot)\n",
        "library(VIM)\n",
        "library(mice)\n",
        "library(ggplot2)\n",
        "library(gridExtra)"
      ],
      "metadata": {
        "trusted": true,
        "execution": {
          "iopub.status.busy": "2025-06-26T12:14:35.045974Z",
          "iopub.execute_input": "2025-06-26T12:14:35.100088Z",
          "iopub.status.idle": "2025-06-26T12:14:38.754748Z",
          "shell.execute_reply": "2025-06-26T12:14:38.752981Z"
        },
        "id": "Xw8eH9RcPPsg"
      },
      "outputs": [],
      "execution_count": null
    },
    {
      "cell_type": "code",
      "source": [
        "titanic_data <- read.csv('/kaggle/input/titanic-dataset/Titanic-Dataset.csv')"
      ],
      "metadata": {
        "trusted": true,
        "execution": {
          "iopub.status.busy": "2025-06-26T12:21:07.164784Z",
          "iopub.execute_input": "2025-06-26T12:21:07.166433Z",
          "iopub.status.idle": "2025-06-26T12:21:07.20101Z",
          "shell.execute_reply": "2025-06-26T12:21:07.199128Z"
        },
        "id": "bibCw4RuPPsh"
      },
      "outputs": [],
      "execution_count": null
    },
    {
      "cell_type": "code",
      "source": [
        "# Convert categorical variables into factors\n",
        "titanic_data$Survived <- as.factor(titanic_data$Survived)\n",
        "titanic_data$Pclass <- as.factor(titanic_data$Survived)\n",
        "titanic_data$Sex <- as.factor(titanic_data$Sex)\n",
        "titanic_data$Embarked <- as.factor(titanic_data$Embarked)"
      ],
      "metadata": {
        "trusted": true,
        "execution": {
          "iopub.status.busy": "2025-06-26T12:21:23.285356Z",
          "iopub.execute_input": "2025-06-26T12:21:23.287171Z",
          "iopub.status.idle": "2025-06-26T12:21:23.306719Z",
          "shell.execute_reply": "2025-06-26T12:21:23.304839Z"
        },
        "id": "blMEc0h5PPsj"
      },
      "outputs": [],
      "execution_count": null
    },
    {
      "cell_type": "code",
      "source": [
        "# Data Analysis\n",
        "\n",
        "cat(\"Number of passengers :\",nrow(titanic_data),\"\\n\")\n",
        "cat(\"Number of variables:\",ncol(titanic_data),\"\\n\\n\")"
      ],
      "metadata": {
        "trusted": true,
        "execution": {
          "iopub.status.busy": "2025-06-26T12:21:43.810411Z",
          "iopub.execute_input": "2025-06-26T12:21:43.812535Z",
          "iopub.status.idle": "2025-06-26T12:21:43.831768Z",
          "shell.execute_reply": "2025-06-26T12:21:43.82951Z"
        },
        "id": "C0aDUhSTPPsj"
      },
      "outputs": [],
      "execution_count": null
    },
    {
      "cell_type": "code",
      "source": [
        "#Structure of data\n",
        "cat(\"Dataset structure\")\n",
        "str(titanic_data)"
      ],
      "metadata": {
        "trusted": true,
        "execution": {
          "iopub.status.busy": "2025-06-26T12:21:58.841366Z",
          "iopub.execute_input": "2025-06-26T12:21:58.843104Z",
          "iopub.status.idle": "2025-06-26T12:21:58.87424Z",
          "shell.execute_reply": "2025-06-26T12:21:58.872217Z"
        },
        "id": "Cx87xo7tPPsk"
      },
      "outputs": [],
      "execution_count": null
    },
    {
      "cell_type": "code",
      "source": [
        "# Summary of the data\n",
        "summary(titanic_data)"
      ],
      "metadata": {
        "trusted": true,
        "execution": {
          "iopub.status.busy": "2025-06-26T12:22:05.920939Z",
          "iopub.execute_input": "2025-06-26T12:22:05.922525Z",
          "iopub.status.idle": "2025-06-26T12:22:05.944056Z",
          "shell.execute_reply": "2025-06-26T12:22:05.942225Z"
        },
        "id": "UTtCRrSZPPsk"
      },
      "outputs": [],
      "execution_count": null
    },
    {
      "cell_type": "code",
      "source": [
        "# Missing value analysis\n",
        "missing_values <- sapply(titanic_data,function(x)sum(is.na(x)))\n",
        "missing_percent <- round(100 * missing_values / nrow(titanic_data), 2)\n",
        "missing_df <- data.frame(\n",
        "  Variables = names(missing_values),\n",
        "  Missing_count <- missing_values,\n",
        "  Missing_Percent <- missing_percent\n",
        ")\n",
        "print(missing_df[missing_df$Missing_count....missing_values > 0,])"
      ],
      "metadata": {
        "trusted": true,
        "execution": {
          "iopub.status.busy": "2025-06-26T12:22:20.170221Z",
          "iopub.execute_input": "2025-06-26T12:22:20.171831Z",
          "iopub.status.idle": "2025-06-26T12:22:20.19772Z",
          "shell.execute_reply": "2025-06-26T12:22:20.195704Z"
        },
        "id": "8RsJZVYfPPsl"
      },
      "outputs": [],
      "execution_count": null
    },
    {
      "cell_type": "code",
      "source": [
        "# Data visulation\n",
        "# 1.Survival rate\n",
        "p1 <- ggplot(titanic_data,aes(x = Survived,fill = Survived)) +geom_bar() + geom_text(stat = 'count', aes(label = `..count..`),vjust = -0.5) + labs(title = \"Survival distribution\", x = \"Survived(0=No, 1=Yes)\", y = \"Count\") + theme_minimal()\n",
        "print(p1)"
      ],
      "metadata": {
        "trusted": true,
        "execution": {
          "iopub.status.busy": "2025-06-26T12:22:40.156058Z",
          "iopub.execute_input": "2025-06-26T12:22:40.157546Z",
          "iopub.status.idle": "2025-06-26T12:22:40.826203Z",
          "shell.execute_reply": "2025-06-26T12:22:40.824358Z"
        },
        "id": "avJrzNGePPsm"
      },
      "outputs": [],
      "execution_count": null
    },
    {
      "cell_type": "code",
      "source": [
        "#2.Survival by gender\n",
        "p2 <- ggplot(titanic_data, aes(x = Sex, fill = Survived)) + geom_bar(position = \"dodge\") + labs(title = \"Survival by Gender\", x = \"Gender\", y = \"Count\") +  theme_minimal()\n",
        "print(p2)"
      ],
      "metadata": {
        "trusted": true,
        "execution": {
          "iopub.status.busy": "2025-06-26T12:22:53.281032Z",
          "iopub.execute_input": "2025-06-26T12:22:53.294394Z",
          "iopub.status.idle": "2025-06-26T12:22:53.757108Z",
          "shell.execute_reply": "2025-06-26T12:22:53.755025Z"
        },
        "id": "C_nmI1AEPPsn"
      },
      "outputs": [],
      "execution_count": null
    },
    {
      "cell_type": "code",
      "source": [
        "#3.Survival by class\n",
        "p3 <- ggplot(titanic_data, aes(x = Pclass, fill = Survived)) + geom_bar(position = \"dodge\") + labs(title = \"Survival by passengers class\", x = \"Passengers class\", y = \"Count\") + theme_minimal()\n",
        "print(p3)\n"
      ],
      "metadata": {
        "trusted": true,
        "execution": {
          "iopub.status.busy": "2025-06-26T12:23:10.526041Z",
          "iopub.execute_input": "2025-06-26T12:23:10.527678Z",
          "iopub.status.idle": "2025-06-26T12:23:10.784381Z",
          "shell.execute_reply": "2025-06-26T12:23:10.78252Z"
        },
        "id": "0XvAOXihPPsn"
      },
      "outputs": [],
      "execution_count": null
    },
    {
      "cell_type": "code",
      "source": [
        "# 4.Age Distribution\n",
        "p4 <- ggplot(titanic_data[!is.na(titanic_data$Age), ], aes(x = Age, fill = Survived)) +  geom_histogram(bins = 10, alpha = 0.7, position = \"identity\") +  labs(title = \"Age Distribution by Survival\", x = \"Age\", y = \"Count\") +  theme_minimal()\n",
        "print(p4)"
      ],
      "metadata": {
        "trusted": true,
        "execution": {
          "iopub.status.busy": "2025-06-26T12:23:23.373324Z",
          "iopub.execute_input": "2025-06-26T12:23:23.37486Z",
          "iopub.status.idle": "2025-06-26T12:23:23.641847Z",
          "shell.execute_reply": "2025-06-26T12:23:23.639398Z"
        },
        "id": "qHZk8SRiPPso"
      },
      "outputs": [],
      "execution_count": null
    },
    {
      "cell_type": "code",
      "source": [
        "# Combine all the plots\n",
        "grid.arrange(p1,p2,p3,p4, ncol = 2)"
      ],
      "metadata": {
        "trusted": true,
        "execution": {
          "iopub.status.busy": "2025-06-26T12:23:31.425957Z",
          "iopub.execute_input": "2025-06-26T12:23:31.427596Z",
          "iopub.status.idle": "2025-06-26T12:23:32.425641Z",
          "shell.execute_reply": "2025-06-26T12:23:32.422711Z"
        },
        "id": "PYaYFXZKPPso"
      },
      "outputs": [],
      "execution_count": null
    },
    {
      "cell_type": "code",
      "source": [
        "# Data preprocessing\n",
        "titanic_processed <- titanic_data\n",
        "titanic_processed$Age[is.na(titanic_processed$Age)] <- median(titanic_processed$Age,na.rm = TRUE)\n",
        "\n",
        "# Extract title from name\n",
        "titanic_processed$Title <- gsub('(.*, )|(\\\\..*)', '', titanic_processed$Name)\n",
        "\n",
        "# Age groups\n",
        "titanic_processed$AgeGroup <- cut(titanic_processed$Age,\n",
        "                                  breaks = c(0, 12, 18, 35, 60, 100),\n",
        "                                  labels = c(\"Child\", \"Teen\", \"Adult\", \"Middle\", \"Senior\"))"
      ],
      "metadata": {
        "trusted": true,
        "execution": {
          "iopub.status.busy": "2025-06-26T12:23:51.106041Z",
          "iopub.execute_input": "2025-06-26T12:23:51.10766Z",
          "iopub.status.idle": "2025-06-26T12:23:51.130512Z",
          "shell.execute_reply": "2025-06-26T12:23:51.128637Z"
        },
        "id": "olbbZPeCPPso"
      },
      "outputs": [],
      "execution_count": null
    },
    {
      "cell_type": "code",
      "source": [
        "# Select features for modeling\n",
        "features_for_modeling <- c(\"Pclass\", \"Sex\", \"Age\", \"SibSp\", \"Parch\", \"Fare\", \"Embarked\")\n",
        "modeling_data <- titanic_processed[, c(\"Survived\", features_for_modeling)]"
      ],
      "metadata": {
        "trusted": true,
        "execution": {
          "iopub.status.busy": "2025-06-26T12:24:14.976333Z",
          "iopub.execute_input": "2025-06-26T12:24:14.978075Z",
          "iopub.status.idle": "2025-06-26T12:24:14.992438Z",
          "shell.execute_reply": "2025-06-26T12:24:14.99055Z"
        },
        "id": "aaA1ev-IPPsp"
      },
      "outputs": [],
      "execution_count": null
    },
    {
      "cell_type": "code",
      "source": [
        "# Remove rows with missing values in selected features\n",
        "modeling_data <- na.omit(modeling_data)"
      ],
      "metadata": {
        "trusted": true,
        "execution": {
          "iopub.status.busy": "2025-06-26T12:24:21.89126Z",
          "iopub.execute_input": "2025-06-26T12:24:21.8928Z",
          "iopub.status.idle": "2025-06-26T12:24:21.907223Z",
          "shell.execute_reply": "2025-06-26T12:24:21.905393Z"
        },
        "id": "2hpzlDOhPPsp"
      },
      "outputs": [],
      "execution_count": null
    },
    {
      "cell_type": "code",
      "source": [
        "cat(\"Number of complete cases:\", nrow(modeling_data), \"\\n\")"
      ],
      "metadata": {
        "trusted": true,
        "execution": {
          "iopub.status.busy": "2025-06-26T12:24:41.851949Z",
          "iopub.execute_input": "2025-06-26T12:24:41.853682Z",
          "iopub.status.idle": "2025-06-26T12:24:41.870177Z",
          "shell.execute_reply": "2025-06-26T12:24:41.867971Z"
        },
        "id": "Kb46BtxXPPsp"
      },
      "outputs": [],
      "execution_count": null
    },
    {
      "cell_type": "code",
      "source": [
        "# Train test splitting the data\n",
        "train_index <- createDataPartition(modeling_data$Survived, p = 0.8, list = FALSE)\n",
        "train_data <- modeling_data[train_index, ]\n",
        "test_data <- modeling_data[-train_index, ]\n",
        "\n",
        "cat(\"Training set size:\", nrow(train_data), \"\\n\")\n",
        "cat(\"Test set size:\", nrow(test_data), \"\\n\")\n",
        "cat(\"Training set proportion:\", round(nrow(train_data)/nrow(modeling_data), 2), \"\\n\")"
      ],
      "metadata": {
        "trusted": true,
        "execution": {
          "iopub.status.busy": "2025-06-26T12:24:53.810479Z",
          "iopub.execute_input": "2025-06-26T12:24:53.812064Z",
          "iopub.status.idle": "2025-06-26T12:24:53.845147Z",
          "shell.execute_reply": "2025-06-26T12:24:53.843165Z"
        },
        "id": "Y8LL3bdUPPsq"
      },
      "outputs": [],
      "execution_count": null
    },
    {
      "cell_type": "code",
      "source": [
        "set.seed(123)\n",
        "\n",
        "# Convert factors for some models\n",
        "modeling_data_numeric <- modeling_data\n",
        "modeling_data_numeric$Sex <- as.numeric(as.factor(modeling_data_numeric$Sex))\n",
        "modeling_data_numeric$Embarked <- as.numeric(as.factor(modeling_data_numeric$Embarked))\n",
        "modeling_data_numeric$Pclass <- as.numeric(modeling_data_numeric$Pclass)"
      ],
      "metadata": {
        "trusted": true,
        "execution": {
          "iopub.status.busy": "2025-06-26T12:25:14.13031Z",
          "iopub.execute_input": "2025-06-26T12:25:14.132101Z",
          "iopub.status.idle": "2025-06-26T12:25:14.15141Z",
          "shell.execute_reply": "2025-06-26T12:25:14.149552Z"
        },
        "id": "ElmOd6OFPPsq"
      },
      "outputs": [],
      "execution_count": null
    },
    {
      "cell_type": "code",
      "source": [
        "# Model 1 Logistic regression\n",
        "logistic_model <- glm(Survived ~ ., data = modeling_data, family = binomial)\n",
        "summary(logistic_model)\n",
        "\n",
        "# Predictions\n",
        "logistic_pred <- predict(logistic_model, type = \"response\")\n",
        "logistic_pred_class <- ifelse(logistic_pred > 0.5, 1, 0)\n",
        "\n",
        "# Confusion Matrix\n",
        "logistic_cm <- table(Actual = modeling_data$Survived, Predicted = logistic_pred_class)\n",
        "cat(\"\\nLogistic Regression Confusion Matrix:\\n\")\n",
        "print(logistic_cm)\n",
        "\n",
        "logistic_accuracy <- sum(diag(logistic_cm)) / sum(logistic_cm)\n",
        "cat(\"Accuracy:\", round(logistic_accuracy, 3), \"\\n\")"
      ],
      "metadata": {
        "trusted": true,
        "execution": {
          "iopub.status.busy": "2025-06-26T12:25:38.220796Z",
          "iopub.execute_input": "2025-06-26T12:25:38.222465Z",
          "iopub.status.idle": "2025-06-26T12:25:38.34448Z",
          "shell.execute_reply": "2025-06-26T12:25:38.342578Z"
        },
        "id": "E31bnij2PPsq"
      },
      "outputs": [],
      "execution_count": null
    },
    {
      "cell_type": "code",
      "source": [
        "# Model 2 Decision tree\n",
        "\n",
        "tree_model <- rpart(Survived ~ ., data = modeling_data, method = \"class\")\n",
        "\n",
        "# Plot the tree\n",
        "rpart.plot(tree_model, main = \"Decision Tree for Titanic Survival\")\n",
        "\n",
        "# Predictions\n",
        "tree_pred <- predict(tree_model, type = \"class\")\n",
        "\n",
        "# Confusion Matrix\n",
        "tree_cm <- table(Actual = modeling_data$Survived, Predicted = tree_pred)\n",
        "cat(\"\\nDecision Tree Confusion Matrix:\\n\")\n",
        "print(tree_cm)\n",
        "\n",
        "tree_accuracy <- sum(diag(tree_cm)) / sum(tree_cm)\n",
        "cat(\"Accuracy:\", round(tree_accuracy, 3), \"\\n\")"
      ],
      "metadata": {
        "trusted": true,
        "execution": {
          "iopub.status.busy": "2025-06-26T12:26:04.370311Z",
          "iopub.execute_input": "2025-06-26T12:26:04.372021Z",
          "iopub.status.idle": "2025-06-26T12:26:04.789554Z",
          "shell.execute_reply": "2025-06-26T12:26:04.78754Z"
        },
        "id": "GvmFMuugPPsr"
      },
      "outputs": [],
      "execution_count": null
    },
    {
      "cell_type": "code",
      "source": [
        "# Model 3 Random Forest\n",
        "rf_model <- randomForest(Survived ~ ., data = modeling_data, ntree = 100, importance = TRUE)\n",
        "print(rf_model)\n",
        "\n",
        "# Variable importance\n",
        "cat(\"\\nVariable Importance:\\n\")\n",
        "importance_df <- data.frame(\n",
        "  Variable = rownames(importance(rf_model)),\n",
        "  Importance = importance(rf_model)[, \"MeanDecreaseGini\"]\n",
        ")\n",
        "importance_df <- importance_df[order(importance_df$Importance, decreasing = TRUE), ]\n",
        "print(importance_df)\n",
        "\n",
        "# Predictions\n",
        "rf_pred <- predict(rf_model)\n",
        "\n",
        "# Confusion Matrix\n",
        "rf_cm <- table(Actual = modeling_data$Survived, Predicted = rf_pred)\n",
        "cat(\"\\nRandom Forest Confusion Matrix:\\n\")\n",
        "print(rf_cm)\n",
        "\n",
        "rf_accuracy <- sum(diag(rf_cm)) / sum(rf_cm)\n",
        "cat(\"Accuracy:\", round(rf_accuracy, 3), \"\\n\")"
      ],
      "metadata": {
        "trusted": true,
        "execution": {
          "iopub.status.busy": "2025-06-26T12:26:20.095172Z",
          "iopub.execute_input": "2025-06-26T12:26:20.096949Z",
          "iopub.status.idle": "2025-06-26T12:26:20.599055Z",
          "shell.execute_reply": "2025-06-26T12:26:20.596127Z"
        },
        "id": "49GHxVEYPPsr"
      },
      "outputs": [],
      "execution_count": null
    },
    {
      "cell_type": "code",
      "source": [
        "cat(\"\\n=== KEY INSIGHTS ===\\n\")\n",
        "cat(\"1. Gender was a strong predictor of survival (women had higher survival rates)\\n\")\n",
        "cat(\"2. Passenger class influenced survival (higher class = better survival)\\n\")\n",
        "cat(\"3. Age played a role (children had higher survival rates)\\n\")\n",
        "cat(\"4. Family size affected survival chances\\n\")\n",
        "cat(\"5. Random Forest achieved the highest accuracy on this dataset\\n\")\n",
        "\n",
        "# Survival rates by key factors\n",
        "cat(\"\\nSurvival Rates by Key Factors:\\n\")\n",
        "survival_by_sex <- aggregate(as.numeric(as.character(titanic_data$Survived)),\n",
        "                             by = list(titanic_data$Sex),\n",
        "                             FUN = mean, na.rm = TRUE)\n",
        "names(survival_by_sex) <- c(\"Sex\", \"Survival_Rate\")\n",
        "print(survival_by_sex)\n",
        "survival_by_class <- aggregate(as.numeric(as.character(titanic_data$Survived)),\n",
        "                               by = list(titanic_data$Pclass),\n",
        "                               FUN = mean, na.rm = TRUE)\n",
        "names(survival_by_class) <- c(\"Pclass\", \"Survival_Rate\")\n",
        "print(survival_by_class)\n",
        "\n",
        ""
      ],
      "metadata": {
        "trusted": true,
        "execution": {
          "iopub.status.busy": "2025-06-26T12:26:37.185707Z",
          "iopub.execute_input": "2025-06-26T12:26:37.188132Z",
          "iopub.status.idle": "2025-06-26T12:26:37.240431Z",
          "shell.execute_reply": "2025-06-26T12:26:37.238776Z"
        },
        "id": "-f6vFv23PPsr"
      },
      "outputs": [],
      "execution_count": null
    },
    {
      "cell_type": "code",
      "source": [],
      "metadata": {
        "trusted": true,
        "id": "stJ-d5s_PPsr"
      },
      "outputs": [],
      "execution_count": null
    }
  ]
}